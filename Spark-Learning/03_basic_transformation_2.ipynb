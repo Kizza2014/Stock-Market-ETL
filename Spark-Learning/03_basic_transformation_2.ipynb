{
 "cells": [
  {
   "cell_type": "code",
   "execution_count": 1,
   "id": "85e39489",
   "metadata": {},
   "outputs": [
    {
     "name": "stderr",
     "output_type": "stream",
     "text": [
      "WARNING: Using incubator modules: jdk.incubator.vector\n",
      "Using Spark's default log4j profile: org/apache/spark/log4j2-defaults.properties\n",
      "25/07/14 15:55:03 WARN Utils: Your hostname, DESKTOP-DMC84B8, resolves to a loopback address: 127.0.1.1; using 10.255.255.254 instead (on interface lo)\n",
      "25/07/14 15:55:03 WARN Utils: Set SPARK_LOCAL_IP if you need to bind to another address\n",
      "Using Spark's default log4j profile: org/apache/spark/log4j2-defaults.properties\n",
      "Setting default log level to \"WARN\".\n",
      "To adjust logging level use sc.setLogLevel(newLevel). For SparkR, use setLogLevel(newLevel).\n",
      "25/07/14 15:55:05 WARN NativeCodeLoader: Unable to load native-hadoop library for your platform... using builtin-java classes where applicable\n",
      "25/07/14 15:55:06 WARN Utils: Service 'SparkUI' could not bind on port 4040. Attempting port 4041.\n"
     ]
    },
    {
     "data": {
      "text/html": [
       "\n",
       "            <div>\n",
       "                <p><b>SparkSession - in-memory</b></p>\n",
       "                \n",
       "        <div>\n",
       "            <p><b>SparkContext</b></p>\n",
       "\n",
       "            <p><a href=\"http://10.255.255.254:4041\">Spark UI</a></p>\n",
       "\n",
       "            <dl>\n",
       "              <dt>Version</dt>\n",
       "                <dd><code>v4.0.0</code></dd>\n",
       "              <dt>Master</dt>\n",
       "                <dd><code>local[*]</code></dd>\n",
       "              <dt>AppName</dt>\n",
       "                <dd><code>Introduction to spark</code></dd>\n",
       "            </dl>\n",
       "        </div>\n",
       "        \n",
       "            </div>\n",
       "        "
      ],
      "text/plain": [
       "<pyspark.sql.session.SparkSession at 0x73957ba154c0>"
      ]
     },
     "execution_count": 1,
     "metadata": {},
     "output_type": "execute_result"
    }
   ],
   "source": [
    "# create spark session\n",
    "from pyspark.sql import SparkSession\n",
    "\n",
    "spark = (\n",
    "    SparkSession.builder\n",
    "    .appName(\"Introduction to spark\")\n",
    "    .master(\"local[*]\")\n",
    "    .getOrCreate()\n",
    ")\n",
    "spark"
   ]
  },
  {
   "cell_type": "code",
   "execution_count": 2,
   "id": "6915f717",
   "metadata": {},
   "outputs": [],
   "source": [
    "# create sample data\n",
    "emp_data = [\n",
    "    [\"001\",\"101\",\"John Doe\",\"30\",\"Male\",\"50000\",\"2015-01-01\"],\n",
    "    [\"002\",\"101\",\"Jane Smith\",\"25\",\"Female\",\"45000\",\"2016-02-15\"],\n",
    "    [\"003\",\"102\",\"Bob Brown\",\"35\",\"Male\",\"55000\",\"2014-05-01\"],\n",
    "    [\"004\",\"102\",\"Alice Lee\",\"28\",\"Female\",\"48000\",\"2017-09-30\"],\n",
    "    [\"005\",\"103\",\"Jack Chan\",\"40\",\"Male\",\"60000\",\"2013-04-01\"],\n",
    "    [\"006\",\"103\",\"Jill Wong\",\"32\",\"Female\",\"52000\",\"2018-07-01\"],\n",
    "    [\"007\",\"101\",\"James Johnson\",\"42\",\"Male\",\"70000\",\"2012-03-15\"],\n",
    "    [\"008\",\"102\",\"Kate Kim\",\"29\",\"Female\",\"51000\",\"2019-10-01\"],\n",
    "    [\"009\",\"103\",\"Tom Tan\",\"33\",\"Male\",\"58000\",\"2016-06-01\"],\n",
    "    [\"010\",\"104\",\"Lisa Lee\",\"27\",\"Female\",\"47000\",\"2018-08-01\"],\n",
    "    [\"011\",\"104\",\"David Park\",\"38\",\"Male\",\"65000\",\"2015-11-01\"],\n",
    "    [\"012\",\"105\",\"Susan Chen\",\"31\",\"Female\",\"54000\",\"2017-02-15\"],\n",
    "    [\"013\",\"106\",\"Brian Kim\",\"45\",\"Male\",\"75000\",\"2011-07-01\"],\n",
    "    [\"014\",\"107\",\"Emily Lee\",\"26\",\"Female\",\"46000\",\"2019-01-01\"],\n",
    "    [\"015\",\"106\",\"Michael Lee\",\"37\",\"Male\",\"63000\",\"2014-09-30\"],\n",
    "    [\"016\",\"107\",\"Kelly Zhang\",\"30\",\"Female\",\"49000\",\"2018-04-01\"],\n",
    "    [\"017\",\"105\",\"George Wang\",\"34\",\"Male\",\"57000\",\"2016-03-15\"],\n",
    "    [\"018\",\"104\",\"Nancy Liu\",\"29\",\"Female\",\"50000\",\"2017-06-01\"],\n",
    "    [\"019\",\"103\",\"Steven Chen\",\"36\",\"Male\",\"62000\",\"2015-08-01\"],\n",
    "    [\"020\",\"102\",\"Grace Kim\",\"32\",\"Female\",\"53000\",\"2018-11-01\"]\n",
    "]\n",
    "\n",
    "emp_schema = \"employee_id string, department_id string, name string, age string, gender string, salary string, hire_date string\""
   ]
  },
  {
   "cell_type": "code",
   "execution_count": null,
   "id": "26a2e0e0",
   "metadata": {},
   "outputs": [
    {
     "name": "stderr",
     "output_type": "stream",
     "text": [
      "                                                                                \r"
     ]
    },
    {
     "name": "stdout",
     "output_type": "stream",
     "text": [
      "+-----------+-------------+-------------+---+------+------+----------+\n",
      "|employee_id|department_id|         name|age|gender|salary| hire_date|\n",
      "+-----------+-------------+-------------+---+------+------+----------+\n",
      "|        001|          101|     John Doe| 30|  Male| 50000|2015-01-01|\n",
      "|        002|          101|   Jane Smith| 25|Female| 45000|2016-02-15|\n",
      "|        003|          102|    Bob Brown| 35|  Male| 55000|2014-05-01|\n",
      "|        004|          102|    Alice Lee| 28|Female| 48000|2017-09-30|\n",
      "|        005|          103|    Jack Chan| 40|  Male| 60000|2013-04-01|\n",
      "|        006|          103|    Jill Wong| 32|Female| 52000|2018-07-01|\n",
      "|        007|          101|James Johnson| 42|  Male| 70000|2012-03-15|\n",
      "|        008|          102|     Kate Kim| 29|Female| 51000|2019-10-01|\n",
      "|        009|          103|      Tom Tan| 33|  Male| 58000|2016-06-01|\n",
      "|        010|          104|     Lisa Lee| 27|Female| 47000|2018-08-01|\n",
      "|        011|          104|   David Park| 38|  Male| 65000|2015-11-01|\n",
      "|        012|          105|   Susan Chen| 31|Female| 54000|2017-02-15|\n",
      "|        013|          106|    Brian Kim| 45|  Male| 75000|2011-07-01|\n",
      "|        014|          107|    Emily Lee| 26|Female| 46000|2019-01-01|\n",
      "|        015|          106|  Michael Lee| 37|  Male| 63000|2014-09-30|\n",
      "|        016|          107|  Kelly Zhang| 30|Female| 49000|2018-04-01|\n",
      "|        017|          105|  George Wang| 34|  Male| 57000|2016-03-15|\n",
      "|        018|          104|    Nancy Liu| 29|Female| 50000|2017-06-01|\n",
      "|        019|          103|  Steven Chen| 36|  Male| 62000|2015-08-01|\n",
      "|        020|          102|    Grace Kim| 32|Female| 53000|2018-11-01|\n",
      "+-----------+-------------+-------------+---+------+------+----------+\n",
      "\n"
     ]
    }
   ],
   "source": [
    "# create dataframe\n",
    "emp = spark.createDataFrame(data=emp_data, schema=emp_schema)\n",
    "emp.show()"
   ]
  },
  {
   "cell_type": "code",
   "execution_count": 4,
   "id": "823525ba",
   "metadata": {},
   "outputs": [
    {
     "name": "stdout",
     "output_type": "stream",
     "text": [
      "root\n",
      " |-- employee_id: string (nullable = true)\n",
      " |-- department_id: string (nullable = true)\n",
      " |-- name: string (nullable = true)\n",
      " |-- age: string (nullable = true)\n",
      " |-- gender: string (nullable = true)\n",
      " |-- salary: string (nullable = true)\n",
      " |-- hire_date: string (nullable = true)\n",
      "\n"
     ]
    }
   ],
   "source": [
    "emp.printSchema()"
   ]
  },
  {
   "cell_type": "code",
   "execution_count": 6,
   "id": "fddbf923",
   "metadata": {},
   "outputs": [
    {
     "name": "stdout",
     "output_type": "stream",
     "text": [
      "+-----------+-------------+---+-------+\n",
      "|employee_id|department_id|age| salary|\n",
      "+-----------+-------------+---+-------+\n",
      "|        001|          101| 30|50000.0|\n",
      "|        002|          101| 25|45000.0|\n",
      "|        003|          102| 35|55000.0|\n",
      "|        004|          102| 28|48000.0|\n",
      "|        005|          103| 40|60000.0|\n",
      "|        006|          103| 32|52000.0|\n",
      "|        007|          101| 42|70000.0|\n",
      "|        008|          102| 29|51000.0|\n",
      "|        009|          103| 33|58000.0|\n",
      "|        010|          104| 27|47000.0|\n",
      "|        011|          104| 38|65000.0|\n",
      "|        012|          105| 31|54000.0|\n",
      "|        013|          106| 45|75000.0|\n",
      "|        014|          107| 26|46000.0|\n",
      "|        015|          106| 37|63000.0|\n",
      "|        016|          107| 30|49000.0|\n",
      "|        017|          105| 34|57000.0|\n",
      "|        018|          104| 29|50000.0|\n",
      "|        019|          103| 36|62000.0|\n",
      "|        020|          102| 32|53000.0|\n",
      "+-----------+-------------+---+-------+\n",
      "\n"
     ]
    }
   ],
   "source": [
    "# casting column\n",
    "from pyspark.sql.functions import col, cast\n",
    "\n",
    "emp_casted = emp.select(\"employee_id\", \"department_id\", col(\"age\").cast(\"int\"), col(\"salary\").cast(\"double\"))\n",
    "emp_casted.show()"
   ]
  },
  {
   "cell_type": "code",
   "execution_count": 7,
   "id": "dddebdc6",
   "metadata": {},
   "outputs": [
    {
     "name": "stdout",
     "output_type": "stream",
     "text": [
      "+-----------+-------------+---+-------+-------+\n",
      "|employee_id|department_id|age| salary|    tax|\n",
      "+-----------+-------------+---+-------+-------+\n",
      "|        001|          101| 30|50000.0|10000.0|\n",
      "|        002|          101| 25|45000.0| 9000.0|\n",
      "|        003|          102| 35|55000.0|11000.0|\n",
      "|        004|          102| 28|48000.0| 9600.0|\n",
      "|        005|          103| 40|60000.0|12000.0|\n",
      "|        006|          103| 32|52000.0|10400.0|\n",
      "|        007|          101| 42|70000.0|14000.0|\n",
      "|        008|          102| 29|51000.0|10200.0|\n",
      "|        009|          103| 33|58000.0|11600.0|\n",
      "|        010|          104| 27|47000.0| 9400.0|\n",
      "|        011|          104| 38|65000.0|13000.0|\n",
      "|        012|          105| 31|54000.0|10800.0|\n",
      "|        013|          106| 45|75000.0|15000.0|\n",
      "|        014|          107| 26|46000.0| 9200.0|\n",
      "|        015|          106| 37|63000.0|12600.0|\n",
      "|        016|          107| 30|49000.0| 9800.0|\n",
      "|        017|          105| 34|57000.0|11400.0|\n",
      "|        018|          104| 29|50000.0|10000.0|\n",
      "|        019|          103| 36|62000.0|12400.0|\n",
      "|        020|          102| 32|53000.0|10600.0|\n",
      "+-----------+-------------+---+-------+-------+\n",
      "\n"
     ]
    }
   ],
   "source": [
    "# adding column\n",
    "emp_taxed = emp_casted.withColumn(\"tax\", col(\"salary\") * 0.2)\n",
    "emp_taxed.show()"
   ]
  },
  {
   "cell_type": "code",
   "execution_count": 8,
   "id": "28a2b839",
   "metadata": {},
   "outputs": [
    {
     "name": "stdout",
     "output_type": "stream",
     "text": [
      "+-----------+-------------+---+-------+-------+---------+---------+\n",
      "|employee_id|department_id|age| salary|    tax|columnOne|columnTwo|\n",
      "+-----------+-------------+---+-------+-------+---------+---------+\n",
      "|        001|          101| 30|50000.0|10000.0|        1|      two|\n",
      "|        002|          101| 25|45000.0| 9000.0|        1|      two|\n",
      "|        003|          102| 35|55000.0|11000.0|        1|      two|\n",
      "|        004|          102| 28|48000.0| 9600.0|        1|      two|\n",
      "|        005|          103| 40|60000.0|12000.0|        1|      two|\n",
      "|        006|          103| 32|52000.0|10400.0|        1|      two|\n",
      "|        007|          101| 42|70000.0|14000.0|        1|      two|\n",
      "|        008|          102| 29|51000.0|10200.0|        1|      two|\n",
      "|        009|          103| 33|58000.0|11600.0|        1|      two|\n",
      "|        010|          104| 27|47000.0| 9400.0|        1|      two|\n",
      "|        011|          104| 38|65000.0|13000.0|        1|      two|\n",
      "|        012|          105| 31|54000.0|10800.0|        1|      two|\n",
      "|        013|          106| 45|75000.0|15000.0|        1|      two|\n",
      "|        014|          107| 26|46000.0| 9200.0|        1|      two|\n",
      "|        015|          106| 37|63000.0|12600.0|        1|      two|\n",
      "|        016|          107| 30|49000.0| 9800.0|        1|      two|\n",
      "|        017|          105| 34|57000.0|11400.0|        1|      two|\n",
      "|        018|          104| 29|50000.0|10000.0|        1|      two|\n",
      "|        019|          103| 36|62000.0|12400.0|        1|      two|\n",
      "|        020|          102| 32|53000.0|10600.0|        1|      two|\n",
      "+-----------+-------------+---+-------+-------+---------+---------+\n",
      "\n"
     ]
    }
   ],
   "source": [
    "# literal\n",
    "# adding column 1 with value 1s, column 2 with value \"two\"s\n",
    "from pyspark.sql.functions import lit\n",
    "\n",
    "emp_new_cols = emp_taxed.withColumn(\"columnOne\", lit(1)).withColumn(\"columnTwo\", lit(\"two\"))\n",
    "emp_new_cols.show()"
   ]
  },
  {
   "cell_type": "code",
   "execution_count": 10,
   "id": "8dc5f329",
   "metadata": {},
   "outputs": [
    {
     "name": "stdout",
     "output_type": "stream",
     "text": [
      "+------+-------------+---+-------+-------+----------+----------+\n",
      "|emp_id|department_id|age| salary|    tax|column One|column Two|\n",
      "+------+-------------+---+-------+-------+----------+----------+\n",
      "|   001|          101| 30|50000.0|10000.0|         1|       two|\n",
      "|   002|          101| 25|45000.0| 9000.0|         1|       two|\n",
      "|   003|          102| 35|55000.0|11000.0|         1|       two|\n",
      "|   004|          102| 28|48000.0| 9600.0|         1|       two|\n",
      "|   005|          103| 40|60000.0|12000.0|         1|       two|\n",
      "|   006|          103| 32|52000.0|10400.0|         1|       two|\n",
      "|   007|          101| 42|70000.0|14000.0|         1|       two|\n",
      "|   008|          102| 29|51000.0|10200.0|         1|       two|\n",
      "|   009|          103| 33|58000.0|11600.0|         1|       two|\n",
      "|   010|          104| 27|47000.0| 9400.0|         1|       two|\n",
      "|   011|          104| 38|65000.0|13000.0|         1|       two|\n",
      "|   012|          105| 31|54000.0|10800.0|         1|       two|\n",
      "|   013|          106| 45|75000.0|15000.0|         1|       two|\n",
      "|   014|          107| 26|46000.0| 9200.0|         1|       two|\n",
      "|   015|          106| 37|63000.0|12600.0|         1|       two|\n",
      "|   016|          107| 30|49000.0| 9800.0|         1|       two|\n",
      "|   017|          105| 34|57000.0|11400.0|         1|       two|\n",
      "|   018|          104| 29|50000.0|10000.0|         1|       two|\n",
      "|   019|          103| 36|62000.0|12400.0|         1|       two|\n",
      "|   020|          102| 32|53000.0|10600.0|         1|       two|\n",
      "+------+-------------+---+-------+-------+----------+----------+\n",
      "\n"
     ]
    }
   ],
   "source": [
    "# rename colun\n",
    "emp_renamed = emp_new_cols.withColumnsRenamed({\n",
    "    \"employee_id\": \"emp_id\",\n",
    "    \"columnOne\": \"column One\",\n",
    "    \"columnTwo\": \"column Two\"\n",
    "})\n",
    "emp_renamed.show()"
   ]
  },
  {
   "cell_type": "code",
   "execution_count": null,
   "id": "d81e728c",
   "metadata": {},
   "outputs": [
    {
     "name": "stdout",
     "output_type": "stream",
     "text": [
      "+------+-------------+---+-------+-------+\n",
      "|emp_id|department_id|age| salary|    tax|\n",
      "+------+-------------+---+-------+-------+\n",
      "|   001|          101| 30|50000.0|10000.0|\n",
      "|   002|          101| 25|45000.0| 9000.0|\n",
      "|   003|          102| 35|55000.0|11000.0|\n",
      "|   004|          102| 28|48000.0| 9600.0|\n",
      "|   005|          103| 40|60000.0|12000.0|\n",
      "|   006|          103| 32|52000.0|10400.0|\n",
      "|   007|          101| 42|70000.0|14000.0|\n",
      "|   008|          102| 29|51000.0|10200.0|\n",
      "|   009|          103| 33|58000.0|11600.0|\n",
      "|   010|          104| 27|47000.0| 9400.0|\n",
      "|   011|          104| 38|65000.0|13000.0|\n",
      "|   012|          105| 31|54000.0|10800.0|\n",
      "|   013|          106| 45|75000.0|15000.0|\n",
      "|   014|          107| 26|46000.0| 9200.0|\n",
      "|   015|          106| 37|63000.0|12600.0|\n",
      "|   016|          107| 30|49000.0| 9800.0|\n",
      "|   017|          105| 34|57000.0|11400.0|\n",
      "|   018|          104| 29|50000.0|10000.0|\n",
      "|   019|          103| 36|62000.0|12400.0|\n",
      "|   020|          102| 32|53000.0|10600.0|\n",
      "+------+-------------+---+-------+-------+\n",
      "\n"
     ]
    }
   ],
   "source": [
    "# remove multiple columns\n",
    "emp_dropped = emp_renamed.drop(\"column One\", \"column Two\")\n",
    "emp_dropped.show()"
   ]
  }
 ],
 "metadata": {
  "kernelspec": {
   "display_name": "spark-env",
   "language": "python",
   "name": "python3"
  },
  "language_info": {
   "codemirror_mode": {
    "name": "ipython",
    "version": 3
   },
   "file_extension": ".py",
   "mimetype": "text/x-python",
   "name": "python",
   "nbconvert_exporter": "python",
   "pygments_lexer": "ipython3",
   "version": "3.12.9"
  }
 },
 "nbformat": 4,
 "nbformat_minor": 5
}
