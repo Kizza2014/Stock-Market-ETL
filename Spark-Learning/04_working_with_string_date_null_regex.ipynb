{
 "cells": [
  {
   "cell_type": "code",
   "execution_count": 1,
   "id": "e39db889",
   "metadata": {},
   "outputs": [
    {
     "name": "stderr",
     "output_type": "stream",
     "text": [
      "WARNING: Using incubator modules: jdk.incubator.vector\n",
      "Using Spark's default log4j profile: org/apache/spark/log4j2-defaults.properties\n",
      "25/07/14 16:12:57 WARN Utils: Your hostname, DESKTOP-DMC84B8, resolves to a loopback address: 127.0.1.1; using 10.255.255.254 instead (on interface lo)\n",
      "25/07/14 16:12:57 WARN Utils: Set SPARK_LOCAL_IP if you need to bind to another address\n",
      "Using Spark's default log4j profile: org/apache/spark/log4j2-defaults.properties\n",
      "Setting default log level to \"WARN\".\n",
      "To adjust logging level use sc.setLogLevel(newLevel). For SparkR, use setLogLevel(newLevel).\n",
      "25/07/14 16:12:58 WARN NativeCodeLoader: Unable to load native-hadoop library for your platform... using builtin-java classes where applicable\n",
      "25/07/14 16:12:59 WARN Utils: Service 'SparkUI' could not bind on port 4040. Attempting port 4041.\n"
     ]
    },
    {
     "data": {
      "text/html": [
       "\n",
       "            <div>\n",
       "                <p><b>SparkSession - in-memory</b></p>\n",
       "                \n",
       "        <div>\n",
       "            <p><b>SparkContext</b></p>\n",
       "\n",
       "            <p><a href=\"http://10.255.255.254:4041\">Spark UI</a></p>\n",
       "\n",
       "            <dl>\n",
       "              <dt>Version</dt>\n",
       "                <dd><code>v4.0.0</code></dd>\n",
       "              <dt>Master</dt>\n",
       "                <dd><code>local[*]</code></dd>\n",
       "              <dt>AppName</dt>\n",
       "                <dd><code>Introduction to Spark</code></dd>\n",
       "            </dl>\n",
       "        </div>\n",
       "        \n",
       "            </div>\n",
       "        "
      ],
      "text/plain": [
       "<pyspark.sql.session.SparkSession at 0x77252d976660>"
      ]
     },
     "execution_count": 1,
     "metadata": {},
     "output_type": "execute_result"
    }
   ],
   "source": [
    "# create spark session\n",
    "from pyspark.sql import SparkSession\n",
    "\n",
    "spark = (\n",
    "    SparkSession.builder\n",
    "    .appName(\"Introduction to Spark\")\n",
    "    .master(\"local[*]\")\n",
    "    .getOrCreate()\n",
    ")\n",
    "spark"
   ]
  },
  {
   "cell_type": "code",
   "execution_count": 5,
   "id": "6a978e4e",
   "metadata": {},
   "outputs": [],
   "source": [
    "# create sample data\n",
    "emp_data = [\n",
    "    [\"001\",\"101\",\"John Doe\",\"30\",\"Male\",\"50000\",\"2015-01-01\"],\n",
    "    [\"002\",\"101\",\"Jane Smith\",\"25\",\"Female\",\"45000\",\"2016-02-15\"],\n",
    "    [\"003\",\"102\",\"Bob Brown\",\"35\",\"Male\",\"55000\",\"2014-05-01\"],\n",
    "    [\"004\",\"102\",\"Alice Lee\",\"28\",\"Female\",\"48000\",\"2017-09-30\"],\n",
    "    [\"005\",\"103\",\"Jack Chan\",\"40\",\"Male\",\"60000\",\"2013-04-01\"],\n",
    "    [\"006\",\"103\",\"Jill Wong\",\"32\",\"Female\",\"52000\",\"2018-07-01\"],\n",
    "    [\"007\",\"101\",\"James Johnson\",\"42\",\"Male\",\"70000\",\"2012-03-15\"],\n",
    "    [\"008\",\"102\",\"Kate Kim\",\"29\",\"Female\",\"51000\",\"2019-10-01\"],\n",
    "    [\"009\",\"103\",\"Tom Tan\",\"33\",\"Male\",\"58000\",\"2016-06-01\"],\n",
    "    [\"010\",\"104\",\"Lisa Lee\",\"27\",\"Female\",\"47000\",\"2018-08-01\"],\n",
    "    [\"011\",\"104\",\"David Park\",\"38\",\"Male\",\"65000\",\"2015-11-01\"],\n",
    "    [\"012\",\"105\",\"Susan Chen\",\"31\",\"Female\",\"54000\",\"2017-02-15\"],\n",
    "    [\"013\",\"106\",\"Brian Kim\",\"45\",\"Binary\",\"75000\",\"2011-07-01\"],\n",
    "    [\"014\",\"107\",\"Emily Lee\",\"26\",\"Female\",\"46000\",\"2019-01-01\"],\n",
    "    [\"015\",\"106\",\"Michael Lee\",\"37\",\"Male\",\"63000\",\"2014-09-30\"],\n",
    "    [\"016\",\"107\",\"Kelly Zhang\",\"30\",\"Female\",\"49000\",\"2018-04-01\"],\n",
    "    [\"017\",\"105\",\"George Wang\",\"34\",\"Male\",\"57000\",\"2016-03-15\"],\n",
    "    [\"018\",\"104\",\"Nancy Liu\",\"29\",\"Mechanic\",\"50000\",\"2017-06-01\"],\n",
    "    [\"019\",\"103\",\"Steven Chen\",\"36\",\"Male\",\"62000\",\"2015-08-01\"],\n",
    "    [\"020\",\"102\",\"Grace Kim\",\"32\",\"Female\",\"53000\",\"2018-11-01\"]\n",
    "]\n",
    "\n",
    "emp_schema = \"employee_id string, department_id string, name string, age string, gender string, salary string, hire_date string\""
   ]
  },
  {
   "cell_type": "code",
   "execution_count": 6,
   "id": "be452c04",
   "metadata": {},
   "outputs": [
    {
     "name": "stdout",
     "output_type": "stream",
     "text": [
      "+-----------+-------------+-------------+---+--------+------+----------+\n",
      "|employee_id|department_id|         name|age|  gender|salary| hire_date|\n",
      "+-----------+-------------+-------------+---+--------+------+----------+\n",
      "|        001|          101|     John Doe| 30|    Male| 50000|2015-01-01|\n",
      "|        002|          101|   Jane Smith| 25|  Female| 45000|2016-02-15|\n",
      "|        003|          102|    Bob Brown| 35|    Male| 55000|2014-05-01|\n",
      "|        004|          102|    Alice Lee| 28|  Female| 48000|2017-09-30|\n",
      "|        005|          103|    Jack Chan| 40|    Male| 60000|2013-04-01|\n",
      "|        006|          103|    Jill Wong| 32|  Female| 52000|2018-07-01|\n",
      "|        007|          101|James Johnson| 42|    Male| 70000|2012-03-15|\n",
      "|        008|          102|     Kate Kim| 29|  Female| 51000|2019-10-01|\n",
      "|        009|          103|      Tom Tan| 33|    Male| 58000|2016-06-01|\n",
      "|        010|          104|     Lisa Lee| 27|  Female| 47000|2018-08-01|\n",
      "|        011|          104|   David Park| 38|    Male| 65000|2015-11-01|\n",
      "|        012|          105|   Susan Chen| 31|  Female| 54000|2017-02-15|\n",
      "|        013|          106|    Brian Kim| 45|  Binary| 75000|2011-07-01|\n",
      "|        014|          107|    Emily Lee| 26|  Female| 46000|2019-01-01|\n",
      "|        015|          106|  Michael Lee| 37|    Male| 63000|2014-09-30|\n",
      "|        016|          107|  Kelly Zhang| 30|  Female| 49000|2018-04-01|\n",
      "|        017|          105|  George Wang| 34|    Male| 57000|2016-03-15|\n",
      "|        018|          104|    Nancy Liu| 29|Mechanic| 50000|2017-06-01|\n",
      "|        019|          103|  Steven Chen| 36|    Male| 62000|2015-08-01|\n",
      "|        020|          102|    Grace Kim| 32|  Female| 53000|2018-11-01|\n",
      "+-----------+-------------+-------------+---+--------+------+----------+\n",
      "\n"
     ]
    }
   ],
   "source": [
    "emp = spark.createDataFrame(data=emp_data, schema=emp_schema)\n",
    "emp.show()"
   ]
  },
  {
   "cell_type": "code",
   "execution_count": 7,
   "id": "94cd8994",
   "metadata": {},
   "outputs": [
    {
     "name": "stdout",
     "output_type": "stream",
     "text": [
      "+-----------+-------------+-------------+---+--------+------+----------+------------+\n",
      "|employee_id|department_id|         name|age|  gender|salary| hire_date|gender_fixed|\n",
      "+-----------+-------------+-------------+---+--------+------+----------+------------+\n",
      "|        001|          101|     John Doe| 30|    Male| 50000|2015-01-01|           M|\n",
      "|        002|          101|   Jane Smith| 25|  Female| 45000|2016-02-15|           F|\n",
      "|        003|          102|    Bob Brown| 35|    Male| 55000|2014-05-01|           M|\n",
      "|        004|          102|    Alice Lee| 28|  Female| 48000|2017-09-30|           F|\n",
      "|        005|          103|    Jack Chan| 40|    Male| 60000|2013-04-01|           M|\n",
      "|        006|          103|    Jill Wong| 32|  Female| 52000|2018-07-01|           F|\n",
      "|        007|          101|James Johnson| 42|    Male| 70000|2012-03-15|           M|\n",
      "|        008|          102|     Kate Kim| 29|  Female| 51000|2019-10-01|           F|\n",
      "|        009|          103|      Tom Tan| 33|    Male| 58000|2016-06-01|           M|\n",
      "|        010|          104|     Lisa Lee| 27|  Female| 47000|2018-08-01|           F|\n",
      "|        011|          104|   David Park| 38|    Male| 65000|2015-11-01|           M|\n",
      "|        012|          105|   Susan Chen| 31|  Female| 54000|2017-02-15|           F|\n",
      "|        013|          106|    Brian Kim| 45|  Binary| 75000|2011-07-01|        NULL|\n",
      "|        014|          107|    Emily Lee| 26|  Female| 46000|2019-01-01|           F|\n",
      "|        015|          106|  Michael Lee| 37|    Male| 63000|2014-09-30|           M|\n",
      "|        016|          107|  Kelly Zhang| 30|  Female| 49000|2018-04-01|           F|\n",
      "|        017|          105|  George Wang| 34|    Male| 57000|2016-03-15|           M|\n",
      "|        018|          104|    Nancy Liu| 29|Mechanic| 50000|2017-06-01|        NULL|\n",
      "|        019|          103|  Steven Chen| 36|    Male| 62000|2015-08-01|           M|\n",
      "|        020|          102|    Grace Kim| 32|  Female| 53000|2018-11-01|           F|\n",
      "+-----------+-------------+-------------+---+--------+------+----------+------------+\n",
      "\n"
     ]
    }
   ],
   "source": [
    "# case when\n",
    "# apply on a gender attribute: 'M' if male, 'F' if female and null otherwise\n",
    "from pyspark.sql.functions import when, col\n",
    "\n",
    "emp_gender_fixed = emp.withColumn(\"gender_fixed\", when(col(\"gender\") == \"Male\", \"M\")\n",
    "                                  .when(col(\"gender\") == \"Female\", \"F\")\n",
    "                                  .otherwise(None))\n",
    "emp_gender_fixed.show()"
   ]
  },
  {
   "cell_type": "code",
   "execution_count": 17,
   "id": "73cf185d",
   "metadata": {},
   "outputs": [
    {
     "ename": "ParseException",
     "evalue": "\n[PARSE_SYNTAX_ERROR] Syntax error at or near 'gender'. SQLSTATE: 42601 (line 1, pos 10)\n\n== SQL ==\ncase when gender='Male' then 'M' when 'gender'='Female' then 'F' else null\n----------^^^\n",
     "output_type": "error",
     "traceback": [
      "\u001b[31m---------------------------------------------------------------------------\u001b[39m",
      "\u001b[31mParseException\u001b[39m                            Traceback (most recent call last)",
      "\u001b[36mCell\u001b[39m\u001b[36m \u001b[39m\u001b[32mIn[17]\u001b[39m\u001b[32m, line 4\u001b[39m\n\u001b[32m      1\u001b[39m \u001b[38;5;66;03m## antherway using expr\u001b[39;00m\n\u001b[32m      2\u001b[39m \u001b[38;5;28;01mfrom\u001b[39;00m\u001b[38;5;250m \u001b[39m\u001b[34;01mpyspark\u001b[39;00m\u001b[34;01m.\u001b[39;00m\u001b[34;01msql\u001b[39;00m\u001b[34;01m.\u001b[39;00m\u001b[34;01mfunctions\u001b[39;00m\u001b[38;5;250m \u001b[39m\u001b[38;5;28;01mimport\u001b[39;00m expr\n\u001b[32m----> \u001b[39m\u001b[32m4\u001b[39m emp_gender_fixed_1 = \u001b[43memp\u001b[49m\u001b[43m.\u001b[49m\u001b[43mwithColumn\u001b[49m\u001b[43m(\u001b[49m\u001b[33;43m\"\u001b[39;49m\u001b[33;43mgender_fixed\u001b[39;49m\u001b[33;43m\"\u001b[39;49m\u001b[43m,\u001b[49m\u001b[43m \u001b[49m\u001b[43mexpr\u001b[49m\u001b[43m(\u001b[49m\u001b[33;43m\"\u001b[39;49m\u001b[33;43mcase when gender=\u001b[39;49m\u001b[33;43m'\u001b[39;49m\u001b[33;43mMale\u001b[39;49m\u001b[33;43m'\u001b[39;49m\u001b[33;43m then \u001b[39;49m\u001b[33;43m'\u001b[39;49m\u001b[33;43mM\u001b[39;49m\u001b[33;43m'\u001b[39;49m\u001b[33;43m when \u001b[39;49m\u001b[33;43m'\u001b[39;49m\u001b[33;43mgender\u001b[39;49m\u001b[33;43m'\u001b[39;49m\u001b[33;43m=\u001b[39;49m\u001b[33;43m'\u001b[39;49m\u001b[33;43mFemale\u001b[39;49m\u001b[33;43m'\u001b[39;49m\u001b[33;43m then \u001b[39;49m\u001b[33;43m'\u001b[39;49m\u001b[33;43mF\u001b[39;49m\u001b[33;43m'\u001b[39;49m\u001b[33;43m else null\u001b[39;49m\u001b[33;43m\"\u001b[39;49m\u001b[43m)\u001b[49m\u001b[43m)\u001b[49m\n\u001b[32m      5\u001b[39m emp_gender_fixed_1.show()\n",
      "\u001b[36mFile \u001b[39m\u001b[32m~/miniconda3/envs/spark-env/lib/python3.12/site-packages/pyspark/sql/classic/dataframe.py:1623\u001b[39m, in \u001b[36mDataFrame.withColumn\u001b[39m\u001b[34m(self, colName, col)\u001b[39m\n\u001b[32m   1618\u001b[39m \u001b[38;5;28;01mif\u001b[39;00m \u001b[38;5;129;01mnot\u001b[39;00m \u001b[38;5;28misinstance\u001b[39m(col, Column):\n\u001b[32m   1619\u001b[39m     \u001b[38;5;28;01mraise\u001b[39;00m PySparkTypeError(\n\u001b[32m   1620\u001b[39m         errorClass=\u001b[33m\"\u001b[39m\u001b[33mNOT_COLUMN\u001b[39m\u001b[33m\"\u001b[39m,\n\u001b[32m   1621\u001b[39m         messageParameters={\u001b[33m\"\u001b[39m\u001b[33marg_name\u001b[39m\u001b[33m\"\u001b[39m: \u001b[33m\"\u001b[39m\u001b[33mcol\u001b[39m\u001b[33m\"\u001b[39m, \u001b[33m\"\u001b[39m\u001b[33marg_type\u001b[39m\u001b[33m\"\u001b[39m: \u001b[38;5;28mtype\u001b[39m(col).\u001b[34m__name__\u001b[39m},\n\u001b[32m   1622\u001b[39m     )\n\u001b[32m-> \u001b[39m\u001b[32m1623\u001b[39m \u001b[38;5;28;01mreturn\u001b[39;00m DataFrame(\u001b[38;5;28;43mself\u001b[39;49m\u001b[43m.\u001b[49m\u001b[43m_jdf\u001b[49m\u001b[43m.\u001b[49m\u001b[43mwithColumn\u001b[49m\u001b[43m(\u001b[49m\u001b[43mcolName\u001b[49m\u001b[43m,\u001b[49m\u001b[43m \u001b[49m\u001b[43mcol\u001b[49m\u001b[43m.\u001b[49m\u001b[43m_jc\u001b[49m\u001b[43m)\u001b[49m, \u001b[38;5;28mself\u001b[39m.sparkSession)\n",
      "\u001b[36mFile \u001b[39m\u001b[32m~/miniconda3/envs/spark-env/lib/python3.12/site-packages/py4j/java_gateway.py:1362\u001b[39m, in \u001b[36mJavaMember.__call__\u001b[39m\u001b[34m(self, *args)\u001b[39m\n\u001b[32m   1356\u001b[39m command = proto.CALL_COMMAND_NAME +\\\n\u001b[32m   1357\u001b[39m     \u001b[38;5;28mself\u001b[39m.command_header +\\\n\u001b[32m   1358\u001b[39m     args_command +\\\n\u001b[32m   1359\u001b[39m     proto.END_COMMAND_PART\n\u001b[32m   1361\u001b[39m answer = \u001b[38;5;28mself\u001b[39m.gateway_client.send_command(command)\n\u001b[32m-> \u001b[39m\u001b[32m1362\u001b[39m return_value = \u001b[43mget_return_value\u001b[49m\u001b[43m(\u001b[49m\n\u001b[32m   1363\u001b[39m \u001b[43m    \u001b[49m\u001b[43manswer\u001b[49m\u001b[43m,\u001b[49m\u001b[43m \u001b[49m\u001b[38;5;28;43mself\u001b[39;49m\u001b[43m.\u001b[49m\u001b[43mgateway_client\u001b[49m\u001b[43m,\u001b[49m\u001b[43m \u001b[49m\u001b[38;5;28;43mself\u001b[39;49m\u001b[43m.\u001b[49m\u001b[43mtarget_id\u001b[49m\u001b[43m,\u001b[49m\u001b[43m \u001b[49m\u001b[38;5;28;43mself\u001b[39;49m\u001b[43m.\u001b[49m\u001b[43mname\u001b[49m\u001b[43m)\u001b[49m\n\u001b[32m   1365\u001b[39m \u001b[38;5;28;01mfor\u001b[39;00m temp_arg \u001b[38;5;129;01min\u001b[39;00m temp_args:\n\u001b[32m   1366\u001b[39m     \u001b[38;5;28;01mif\u001b[39;00m \u001b[38;5;28mhasattr\u001b[39m(temp_arg, \u001b[33m\"\u001b[39m\u001b[33m_detach\u001b[39m\u001b[33m\"\u001b[39m):\n",
      "\u001b[36mFile \u001b[39m\u001b[32m~/miniconda3/envs/spark-env/lib/python3.12/site-packages/pyspark/errors/exceptions/captured.py:288\u001b[39m, in \u001b[36mcapture_sql_exception.<locals>.deco\u001b[39m\u001b[34m(*a, **kw)\u001b[39m\n\u001b[32m    284\u001b[39m converted = convert_exception(e.java_exception)\n\u001b[32m    285\u001b[39m \u001b[38;5;28;01mif\u001b[39;00m \u001b[38;5;129;01mnot\u001b[39;00m \u001b[38;5;28misinstance\u001b[39m(converted, UnknownException):\n\u001b[32m    286\u001b[39m     \u001b[38;5;66;03m# Hide where the exception came from that shows a non-Pythonic\u001b[39;00m\n\u001b[32m    287\u001b[39m     \u001b[38;5;66;03m# JVM exception message.\u001b[39;00m\n\u001b[32m--> \u001b[39m\u001b[32m288\u001b[39m     \u001b[38;5;28;01mraise\u001b[39;00m converted \u001b[38;5;28;01mfrom\u001b[39;00m\u001b[38;5;250m \u001b[39m\u001b[38;5;28;01mNone\u001b[39;00m\n\u001b[32m    289\u001b[39m \u001b[38;5;28;01melse\u001b[39;00m:\n\u001b[32m    290\u001b[39m     \u001b[38;5;28;01mraise\u001b[39;00m\n",
      "\u001b[31mParseException\u001b[39m: \n[PARSE_SYNTAX_ERROR] Syntax error at or near 'gender'. SQLSTATE: 42601 (line 1, pos 10)\n\n== SQL ==\ncase when gender='Male' then 'M' when 'gender'='Female' then 'F' else null\n----------^^^\n"
     ]
    }
   ],
   "source": [
    "## antherway using expr\n",
    "from pyspark.sql.functions import expr\n",
    "\n",
    "emp_gender_fixed_1 = emp.withColumn(\"gender_fixed\", expr(\"case when gender='Male' then 'M' when 'gender'='Female' then 'F' else null\"))\n",
    "emp_gender_fixed_1.show()"
   ]
  }
 ],
 "metadata": {
  "kernelspec": {
   "display_name": "spark-env",
   "language": "python",
   "name": "python3"
  },
  "language_info": {
   "codemirror_mode": {
    "name": "ipython",
    "version": 3
   },
   "file_extension": ".py",
   "mimetype": "text/x-python",
   "name": "python",
   "nbconvert_exporter": "python",
   "pygments_lexer": "ipython3",
   "version": "3.12.9"
  }
 },
 "nbformat": 4,
 "nbformat_minor": 5
}
